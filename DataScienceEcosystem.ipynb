{
 "cells": [
  {
   "cell_type": "markdown",
   "id": "71593e77-095b-4f8d-9dad-c4165db2a34a",
   "metadata": {},
   "source": [
    "In this notebook, Data Science Tools and Ecosystem are summarized."
   ]
  },
  {
   "cell_type": "markdown",
   "id": "66b1996c-5ad0-4463-8fb8-820f93f5ce21",
   "metadata": {},
   "source": [
    "**Objectives:**\n",
    "\n",
    "- List popular languages for Data Science  \n",
    "- Identify commonly used libraries in Data Science  \n",
    "- Create and format Markdown cells in Jupyter Notebook  \n",
    "- Use code cells to evaluate arithmetic expressions  \n",
    "- Convert minutes into hours using Pyt"
   ]
  },
  {
   "cell_type": "markdown",
   "id": "b384a024-e9b0-4648-baf1-fe1f391e8db2",
   "metadata": {},
   "source": [
    "## Author\n",
    "\n",
    "Roshan Martis"
   ]
  },
  {
   "cell_type": "markdown",
   "id": "5fa1409c-35a7-4c04-a3e3-73870dc7e29f",
   "metadata": {},
   "source": [
    "Some of the popular languages that Data Scientists use are:"
   ]
  },
  {
   "cell_type": "markdown",
   "id": "62ec1393-c186-4c38-b524-214d1ff862f3",
   "metadata": {},
   "source": [
    "1. Python  \n",
    "2. R  \n",
    "3. SQL  \n",
    "4. Julia  \n",
    "5. Scala"
   ]
  },
  {
   "cell_type": "markdown",
   "id": "423e6b50-4b1a-465f-8132-f330ea5a6f60",
   "metadata": {},
   "source": [
    "Some of the commonly used libraries used by Data Scientists include:"
   ]
  },
  {
   "cell_type": "markdown",
   "id": "dd714801-4acb-45fb-81a0-0e452f2a01b2",
   "metadata": {},
   "source": [
    "1. NumPy  \n",
    "2. pandas  \n",
    "3. Matplotlib"
   ]
  },
  {
   "cell_type": "markdown",
   "id": "b712ecb0-4ec5-4be1-b45a-e011ec5f30d7",
   "metadata": {},
   "source": [
    "| Data Science Tools           |\n",
    "|-----------------------------|\n",
    "| Jupyter Notebook            |\n",
    "| RStudio                     |\n",
    "| Github                      |"
   ]
  },
  {
   "cell_type": "markdown",
   "id": "13713b3f-accd-449e-8916-a55227baab2c",
   "metadata": {},
   "source": [
    "Below are a few examples of evaluating arithmetic expressions in Python."
   ]
  },
  {
   "cell_type": "code",
   "execution_count": 1,
   "id": "c98227b7-f1f3-44c0-b383-2b32e1cfa288",
   "metadata": {},
   "outputs": [
    {
     "data": {
      "text/plain": [
       "17"
      ]
     },
     "execution_count": 1,
     "metadata": {},
     "output_type": "execute_result"
    }
   ],
   "source": [
    "# This is a simple arithmetic expression to multiply then add integers\n",
    "(3 * 4) + 5"
   ]
  },
  {
   "cell_type": "code",
   "execution_count": 2,
   "id": "68cb36cc-51b0-4c2c-a17b-147526353093",
   "metadata": {},
   "outputs": [
    {
     "data": {
      "text/plain": [
       "3.3333333333333335"
      ]
     },
     "execution_count": 2,
     "metadata": {},
     "output_type": "execute_result"
    }
   ],
   "source": [
    "# This will convert 200 minutes to hours by dividing by 60\n",
    "200 / 60"
   ]
  },
  {
   "cell_type": "code",
   "execution_count": null,
   "id": "1ea82c09-312a-41d6-840c-b273ba2fe2ef",
   "metadata": {},
   "outputs": [],
   "source": []
  }
 ],
 "metadata": {
  "kernelspec": {
   "display_name": "Python 3 (ipykernel)",
   "language": "python",
   "name": "python3"
  },
  "language_info": {
   "codemirror_mode": {
    "name": "ipython",
    "version": 3
   },
   "file_extension": ".py",
   "mimetype": "text/x-python",
   "name": "python",
   "nbconvert_exporter": "python",
   "pygments_lexer": "ipython3",
   "version": "3.12.7"
  }
 },
 "nbformat": 4,
 "nbformat_minor": 5
}
